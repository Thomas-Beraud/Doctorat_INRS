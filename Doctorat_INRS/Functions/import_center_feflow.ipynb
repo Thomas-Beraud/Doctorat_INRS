{
 "cells": [
  {
   "cell_type": "code",
   "execution_count": 1,
   "metadata": {},
   "outputs": [],
   "source": [
    "import pandas as pd\n",
    "import numpy as np\n",
    "import Functions.Geostats as geospy"
   ]
  },
  {
   "cell_type": "code",
   "execution_count": 2,
   "metadata": {},
   "outputs": [],
   "source": [
    "#column_names = pd.read_csv(\"center_K.dat\").columns\n",
    "#column_names"
   ]
  },
  {
   "cell_type": "code",
   "execution_count": 3,
   "metadata": {},
   "outputs": [],
   "source": [
    "data = np.loadtxt(\"center_K.dat\",skiprows=1)"
   ]
  },
  {
   "cell_type": "code",
   "execution_count": 4,
   "metadata": {},
   "outputs": [],
   "source": [
    "x_obs = np.mean(data[:,1])\n",
    "y_obs = np.mean(data[:,2])\n",
    "z_obs = np.mean(data[:,3])\n",
    "\n",
    "max_range = 1000\n",
    "med_range = 300\n",
    "min_range = 50\n",
    "azimuth = 35*np.pi/180\n",
    "dip = 0*np.pi/180\n",
    "vario_type = \"exponential\"\n",
    "sill = 1\n",
    "nugget = 0"
   ]
  },
  {
   "cell_type": "code",
   "execution_count": 5,
   "metadata": {
    "scrolled": false
   },
   "outputs": [
    {
     "name": "stdout",
     "output_type": "stream",
     "text": [
      "\u001b[1m \u001b[91m Error : Azimuth should be in radian between 0 and 2 pi \n",
      " \u001b[0m\n",
      "\u001b[1m \u001b[91m Error : Dip should be in radian between -pi/2 and pi/2 \n",
      " \u001b[0m\n",
      "Bounding box coordinates around observation point : \n",
      "x_min :  824866.0 \n",
      "y_min :  2064668.0 \n",
      "z_min :  -652.0 \n",
      "x_max :  826859.0 \n",
      "y_max :  2065291.0 \n",
      "z_max :  1347.0 \n",
      "\n",
      "Points in Ellispoid :  65 \n",
      "\n"
     ]
    }
   ],
   "source": [
    "weight_index_vector = geospy.weighted_updating_vector(x_obs,\n",
    "                         y_obs,\n",
    "                         z_obs,\n",
    "                         max_range,\n",
    "                         med_range,\n",
    "                         min_range,\n",
    "                         azimuth,\n",
    "                         dip,\n",
    "                         vario_type,\n",
    "                         sill,\n",
    "                         nugget,\n",
    "                         data,\n",
    "                         plot=False)"
   ]
  },
  {
   "cell_type": "code",
   "execution_count": null,
   "metadata": {},
   "outputs": [],
   "source": []
  },
  {
   "cell_type": "code",
   "execution_count": null,
   "metadata": {},
   "outputs": [],
   "source": []
  }
 ],
 "metadata": {
  "kernelspec": {
   "display_name": "Python 3",
   "language": "python",
   "name": "python3"
  },
  "language_info": {
   "codemirror_mode": {
    "name": "ipython",
    "version": 3
   },
   "file_extension": ".py",
   "mimetype": "text/x-python",
   "name": "python",
   "nbconvert_exporter": "python",
   "pygments_lexer": "ipython3",
   "version": "3.7.3"
  }
 },
 "nbformat": 4,
 "nbformat_minor": 4
}
